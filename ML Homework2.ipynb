{
 "cells": [
  {
   "cell_type": "code",
   "execution_count": 123,
   "metadata": {},
   "outputs": [],
   "source": [
    "import numpy as np\n",
    "import pandas as pd\n",
    "import matplotlib.pyplot as plt"
   ]
  },
  {
   "cell_type": "code",
   "execution_count": 124,
   "metadata": {},
   "outputs": [],
   "source": [
    "mean1 = [680, 700]\n",
    "cov1 = [[149, -47], [-47, 209]]\n",
    "\n",
    "mean2 = [10, 550]\n",
    "cov2 = [[200, 15], [15, 250]]"
   ]
  },
  {
   "cell_type": "code",
   "execution_count": 125,
   "metadata": {
    "scrolled": true
   },
   "outputs": [],
   "source": [
    "\n",
    "data1 = np.random.multivariate_normal(mean1, cov1, 300).T\n",
    "\n",
    "data2 = np.random.multivariate_normal(mean2, cov2, 300).T\n"
   ]
  },
  {
   "cell_type": "code",
   "execution_count": 155,
   "metadata": {
    "scrolled": true
   },
   "outputs": [
    {
     "data": {
      "text/html": [
       "<div>\n",
       "<style scoped>\n",
       "    .dataframe tbody tr th:only-of-type {\n",
       "        vertical-align: middle;\n",
       "    }\n",
       "\n",
       "    .dataframe tbody tr th {\n",
       "        vertical-align: top;\n",
       "    }\n",
       "\n",
       "    .dataframe thead th {\n",
       "        text-align: right;\n",
       "    }\n",
       "</style>\n",
       "<table border=\"1\" class=\"dataframe\">\n",
       "  <thead>\n",
       "    <tr style=\"text-align: right;\">\n",
       "      <th></th>\n",
       "      <th>x1</th>\n",
       "      <th>x2</th>\n",
       "      <th>Y</th>\n",
       "    </tr>\n",
       "  </thead>\n",
       "  <tbody>\n",
       "    <tr>\n",
       "      <th>0</th>\n",
       "      <td>675.911762</td>\n",
       "      <td>716.671239</td>\n",
       "      <td>red</td>\n",
       "    </tr>\n",
       "    <tr>\n",
       "      <th>1</th>\n",
       "      <td>680.632101</td>\n",
       "      <td>715.043878</td>\n",
       "      <td>red</td>\n",
       "    </tr>\n",
       "    <tr>\n",
       "      <th>2</th>\n",
       "      <td>675.963387</td>\n",
       "      <td>695.797099</td>\n",
       "      <td>red</td>\n",
       "    </tr>\n",
       "    <tr>\n",
       "      <th>3</th>\n",
       "      <td>669.086648</td>\n",
       "      <td>681.696183</td>\n",
       "      <td>red</td>\n",
       "    </tr>\n",
       "    <tr>\n",
       "      <th>4</th>\n",
       "      <td>687.475259</td>\n",
       "      <td>697.229424</td>\n",
       "      <td>red</td>\n",
       "    </tr>\n",
       "  </tbody>\n",
       "</table>\n",
       "</div>"
      ],
      "text/plain": [
       "           x1          x2    Y\n",
       "0  675.911762  716.671239  red\n",
       "1  680.632101  715.043878  red\n",
       "2  675.963387  695.797099  red\n",
       "3  669.086648  681.696183  red\n",
       "4  687.475259  697.229424  red"
      ]
     },
     "execution_count": 155,
     "metadata": {},
     "output_type": "execute_result"
    }
   ],
   "source": [
    "df = pd.DataFrame(data= data1) \n",
    "df = df.transpose()\n",
    "df.columns = ['x1','x2']\n",
    "df['Y'] = \"red\" \n",
    "df.head()\n",
    "\n",
    "df2 = pd.DataFrame(data= data2) \n",
    "df2 = df2.transpose()\n",
    "df2.columns = ['x1','x2']\n",
    "df2['Y'] = \"blue\" \n",
    "df2.head()\n",
    "\n",
    "train = df.append(df2, ignore_index=True)\n",
    "\n",
    "train.head()\n",
    "# train.tail()"
   ]
  },
  {
   "cell_type": "code",
   "execution_count": 156,
   "metadata": {},
   "outputs": [
    {
     "data": {
      "text/html": [
       "<div>\n",
       "<style scoped>\n",
       "    .dataframe tbody tr th:only-of-type {\n",
       "        vertical-align: middle;\n",
       "    }\n",
       "\n",
       "    .dataframe tbody tr th {\n",
       "        vertical-align: top;\n",
       "    }\n",
       "\n",
       "    .dataframe thead th {\n",
       "        text-align: right;\n",
       "    }\n",
       "</style>\n",
       "<table border=\"1\" class=\"dataframe\">\n",
       "  <thead>\n",
       "    <tr style=\"text-align: right;\">\n",
       "      <th></th>\n",
       "      <th>x1</th>\n",
       "      <th>x2</th>\n",
       "      <th>Y</th>\n",
       "    </tr>\n",
       "  </thead>\n",
       "  <tbody>\n",
       "    <tr>\n",
       "      <th>0</th>\n",
       "      <td>698.040241</td>\n",
       "      <td>702.728038</td>\n",
       "      <td>red</td>\n",
       "    </tr>\n",
       "    <tr>\n",
       "      <th>1</th>\n",
       "      <td>681.231427</td>\n",
       "      <td>720.996060</td>\n",
       "      <td>red</td>\n",
       "    </tr>\n",
       "    <tr>\n",
       "      <th>2</th>\n",
       "      <td>683.615022</td>\n",
       "      <td>700.498031</td>\n",
       "      <td>red</td>\n",
       "    </tr>\n",
       "    <tr>\n",
       "      <th>3</th>\n",
       "      <td>687.959768</td>\n",
       "      <td>676.213679</td>\n",
       "      <td>red</td>\n",
       "    </tr>\n",
       "    <tr>\n",
       "      <th>4</th>\n",
       "      <td>671.866934</td>\n",
       "      <td>684.081984</td>\n",
       "      <td>red</td>\n",
       "    </tr>\n",
       "  </tbody>\n",
       "</table>\n",
       "</div>"
      ],
      "text/plain": [
       "           x1          x2    Y\n",
       "0  698.040241  702.728038  red\n",
       "1  681.231427  720.996060  red\n",
       "2  683.615022  700.498031  red\n",
       "3  687.959768  676.213679  red\n",
       "4  671.866934  684.081984  red"
      ]
     },
     "execution_count": 156,
     "metadata": {},
     "output_type": "execute_result"
    }
   ],
   "source": [
    "data3 = np.random.multivariate_normal(mean1, cov1, 200).T\n",
    "\n",
    "data4 = np.random.multivariate_normal(mean2, cov2, 200).T\n",
    "\n",
    "\n",
    "df3 = pd.DataFrame(data= data3) \n",
    "df3 = df3.transpose()\n",
    "df3.columns = ['x1','x2']\n",
    "df3['Y'] = \"red\" \n",
    "df3.head()\n",
    "\n",
    "df4 = pd.DataFrame(data= data4) \n",
    "df4 = df4.transpose()\n",
    "df4.columns = ['x1','x2']\n",
    "df4['Y'] = \"blue\" \n",
    "df4.head()\n",
    "\n",
    "test = df3.append(df4, ignore_index=True)\n",
    "\n",
    "test.head()\n",
    "\n"
   ]
  },
  {
   "cell_type": "code",
   "execution_count": 157,
   "metadata": {
    "scrolled": true
   },
   "outputs": [
    {
     "data": {
      "image/png": "[encoded data removed]",
      "text/plain": [
       "<Figure size 420.6x360 with 1 Axes>"
      ]
     },
     "metadata": {},
     "output_type": "display_data"
    }
   ],
   "source": [
    "import seaborn as sns\n",
    "sns.set(color_codes=True)\n",
    "p = sns.lmplot('x1', 'x2', data= train, hue ='Y', palette=\"Set1\", fit_reg = False, scatter_kws = {\"s\": 10})\n"
   ]
  },
  {
   "cell_type": "code",
   "execution_count": 158,
   "metadata": {},
   "outputs": [
    {
     "data": {
      "image/png": "[encoded data removed]",
      "text/plain": [
       "<Figure size 432x288 with 1 Axes>"
      ]
     },
     "metadata": {},
     "output_type": "display_data"
    }
   ],
   "source": [
    "plt.scatter(test[\"x1\"], test[\"x2\"], c=test[\"Y\"],s=50, cmap='RdBu')\n",
    "lim = plt.axis()"
   ]
  },
  {
   "cell_type": "code",
   "execution_count": 159,
   "metadata": {},
   "outputs": [],
   "source": [
    "from sklearn import preprocessing\n",
    "\n",
    "le = preprocessing.LabelEncoder()\n",
    "train_pred=le.fit_transform(train[\"Y\"])\n",
    "\n",
    "test_pred=le.fit_transform(test[\"Y\"])\n"
   ]
  },
  {
   "cell_type": "code",
   "execution_count": 160,
   "metadata": {
    "scrolled": true
   },
   "outputs": [
    {
     "name": "stdout",
     "output_type": "stream",
     "text": [
      "Accuracy: 1.0\n"
     ]
    }
   ],
   "source": [
    "from sklearn.naive_bayes import GaussianNB\n",
    "from sklearn.preprocessing import LabelEncoder\n",
    "from sklearn import metrics\n",
    "\n",
    "\n",
    "gnb = GaussianNB()\n",
    "gnb.fit(train.loc[:, train.columns != 'Y'], train_pred)\n",
    "\n",
    "\n",
    "y_pred = gnb.predict(test.loc[:, test.columns != 'Y'])\n",
    "\n",
    "\n",
    "\n",
    "# Model Accuracy, how often is the classifier correct?\n",
    "\n",
    "\n",
    "print(\"Accuracy:\",metrics.accuracy_score(test_pred, y_pred))\n"
   ]
  },
  {
   "cell_type": "code",
   "execution_count": 175,
   "metadata": {
    "scrolled": true
   },
   "outputs": [
    {
     "data": {
      "text/html": [
       "<div>\n",
       "<style scoped>\n",
       "    .dataframe tbody tr th:only-of-type {\n",
       "        vertical-align: middle;\n",
       "    }\n",
       "\n",
       "    .dataframe tbody tr th {\n",
       "        vertical-align: top;\n",
       "    }\n",
       "\n",
       "    .dataframe thead th {\n",
       "        text-align: right;\n",
       "    }\n",
       "</style>\n",
       "<table border=\"1\" class=\"dataframe\">\n",
       "  <thead>\n",
       "    <tr style=\"text-align: right;\">\n",
       "      <th></th>\n",
       "      <th>x1</th>\n",
       "      <th>x2</th>\n",
       "      <th>Y</th>\n",
       "    </tr>\n",
       "  </thead>\n",
       "  <tbody>\n",
       "    <tr>\n",
       "      <th>0</th>\n",
       "      <td>698.040241</td>\n",
       "      <td>702.728038</td>\n",
       "      <td>red</td>\n",
       "    </tr>\n",
       "    <tr>\n",
       "      <th>1</th>\n",
       "      <td>681.231427</td>\n",
       "      <td>720.996060</td>\n",
       "      <td>red</td>\n",
       "    </tr>\n",
       "    <tr>\n",
       "      <th>2</th>\n",
       "      <td>683.615022</td>\n",
       "      <td>700.498031</td>\n",
       "      <td>red</td>\n",
       "    </tr>\n",
       "    <tr>\n",
       "      <th>3</th>\n",
       "      <td>687.959768</td>\n",
       "      <td>676.213679</td>\n",
       "      <td>red</td>\n",
       "    </tr>\n",
       "    <tr>\n",
       "      <th>4</th>\n",
       "      <td>671.866934</td>\n",
       "      <td>684.081984</td>\n",
       "      <td>red</td>\n",
       "    </tr>\n",
       "  </tbody>\n",
       "</table>\n",
       "</div>"
      ],
      "text/plain": [
       "           x1          x2    Y\n",
       "0  698.040241  702.728038  red\n",
       "1  681.231427  720.996060  red\n",
       "2  683.615022  700.498031  red\n",
       "3  687.959768  676.213679  red\n",
       "4  671.866934  684.081984  red"
      ]
     },
     "execution_count": 175,
     "metadata": {},
     "output_type": "execute_result"
    }
   ],
   "source": [
    "predict =  test[['x1', 'x2']].copy()\n",
    "predict['Y'] = y_pred\n",
    "\n",
    "predict.head()\n",
    "\n",
    "convert = lambda x: \"red\" if x==1 else(\"blue\")\n",
    "predict['Y'] = predict['Y'].map(convert)\n",
    "\n",
    "predict.head()"
   ]
  },
  {
   "cell_type": "code",
   "execution_count": 177,
   "metadata": {},
   "outputs": [
    {
     "data": {
      "image/png": "[encoded data removed]",
      "text/plain": [
       "<Figure size 432x288 with 1 Axes>"
      ]
     },
     "metadata": {},
     "output_type": "display_data"
    }
   ],
   "source": [
    "plt.scatter(train[\"x1\"], train[\"x2\"], c=train[\"Y\"],s=50, cmap='RdBu')\n",
    "lim = plt.axis()\n",
    "\n",
    "\n",
    "plt.scatter(predict[\"x1\"], predict[\"x2\"], c=predict[\"Y\"], s=20, cmap='RdBu', alpha=0.1)\n",
    "plt.axis(lim);\n",
    "\n",
    "# predict =  test[['x1', 'x2']].copy()\n",
    "# sns.set(color_codes=True)\n",
    "# p = sns.lmplot('x1', 'x2', data= test, hue ='Y', palette=\"Set1\", fit_reg = False, scatter_kws = {\"s\": 10})\n"
   ]
  },
  {
   "cell_type": "code",
   "execution_count": 182,
   "metadata": {},
   "outputs": [
    {
     "name": "stdout",
     "output_type": "stream",
     "text": [
      "[[200   0]\n",
      " [  0 200]]\n"
     ]
    }
   ],
   "source": [
    "confusion = metrics.confusion_matrix(predict[\"Y\"], test[\"Y\"])\n",
    "\n",
    "print(metrics.confusion_matrix(predict[\"Y\"], test[\"Y\"]))\n",
    "TP = confusion[1, 1]\n",
    "TN = confusion[0, 0]\n",
    "FP = confusion[0, 1]\n",
    "FN = confusion[1, 0]"
   ]
  },
  {
   "cell_type": "code",
   "execution_count": 187,
   "metadata": {},
   "outputs": [
    {
     "name": "stdout",
     "output_type": "stream",
     "text": [
      "Confusion Matrix :\n",
      "[[200   0]\n",
      " [  0 200]]\n",
      "Accuracy Score : 1.0\n",
      "Report : \n",
      "              precision    recall  f1-score   support\n",
      "\n",
      "        blue       1.00      1.00      1.00       200\n",
      "         red       1.00      1.00      1.00       200\n",
      "\n",
      "   micro avg       1.00      1.00      1.00       400\n",
      "   macro avg       1.00      1.00      1.00       400\n",
      "weighted avg       1.00      1.00      1.00       400\n",
      "\n"
     ]
    }
   ],
   "source": [
    "from sklearn.metrics import confusion_matrix \n",
    "from sklearn.metrics import accuracy_score \n",
    "from sklearn.metrics import classification_report \n",
    "\n",
    "results = confusion_matrix(test[\"Y\"], predict[\"Y\"]) \n",
    "print ('Confusion Matrix :')\n",
    "print(results) \n",
    "print ('Accuracy Score :',accuracy_score(test[\"Y\"], predict[\"Y\"]) )\n",
    "print ('Report : ')\n",
    "print (classification_report(test[\"Y\"], predict[\"Y\"]))"
   ]
  },
  {
   "cell_type": "code",
   "execution_count": 196,
   "metadata": {},
   "outputs": [
    {
     "name": "stdout",
     "output_type": "stream",
     "text": [
      "Best K value ::  1\n",
      "Error rate for k=1 is 0.000\n",
      "confusion matrix:\n",
      "[[200   0]\n",
      " [  0 200]]\n"
     ]
    }
   ],
   "source": [
    "from sklearn.neighbors import KNeighborsClassifier\n",
    "\n",
    "\n",
    "\n",
    "kList=[]\n",
    "minusList=[]\n",
    "plusList=[]\n",
    "totalList=[]\n",
    "lowKey=1\n",
    "highKey=501\n",
    "Step=5 #Number of different k's to test\n",
    "n=20 #Number of times for each k to generate train/test sets\n",
    "p=0.2 #fraction of data set aside for test set\n",
    "\n",
    "for k in range(lowKey, highKey,Step):\n",
    "    kList.append(k)\n",
    "    knnMinusErrorRate=0\n",
    "    knnPlusErrorRate=0\n",
    "    knnErrorRate=0\n",
    "    for i in range(1,n):\n",
    "        classifier = KNeighborsClassifier(n_neighbors=k)\n",
    "        X=train.iloc[:,[0,1]]\n",
    "        classifier.fit(X, train[\"Y\"])\n",
    "        yPred=classifier.predict(test[['x1','x2']])\n",
    "        yPredP=classifier.predict_proba(test[['x1','x2']])\n",
    "        C=confusion_matrix(test[\"Y\"], yPred)\n",
    "        knnMinusErrorRate+=C[0,1]/(C[0,0]+C[0,1])\n",
    "        knnPlusErrorRate+=C[1,0]/(C[1,0]+C[1,1])\n",
    "        knnErrorRate+=(C[1,0]+C[0,1])/sum(sum(C))\n",
    "    #end inner for\n",
    "    knnMinusErrorRate/=n #find the avg error over n tests\n",
    "    knnPlusErrorRate/=n\n",
    "    knnErrorRate/=n\n",
    "    minusList.append(knnMinusErrorRate) #store for graphing\n",
    "    plusList.append(knnPlusErrorRate)\n",
    "    totalList.append(knnErrorRate)\n",
    "#end for\n"
   ]
  },
  {
   "cell_type": "code",
   "execution_count": 197,
   "metadata": {},
   "outputs": [
    {
     "name": "stdout",
     "output_type": "stream",
     "text": [
      "Best K value ::  1\n",
      "Error rate for k=1 is 0.000\n",
      "confusion matrix:\n",
      "[[200   0]\n",
      " [  0 200]]\n"
     ]
    }
   ],
   "source": [
    "\n",
    "bestErrRate=min(totalList)\n",
    "bestK=kList[np.argmin(totalList)]\n",
    "\n",
    "print(\"Best K value :: \",bestK)\n",
    "classifier=KNeighborsClassifier(n_neighbors=bestK)\n",
    "X=train.iloc[:,[0,1]]\n",
    "classifier.fit(X, train[\"Y\"])\n",
    "\n",
    "yTestPred=classifier.predict(test.iloc[:,[0,1]])\n",
    "yTestPredP=classifier.predict_proba(test.iloc[:,[0,1]])\n",
    "C=confusion_matrix(test[\"Y\"],yTestPred)\n",
    "\n",
    "   \n",
    "s='Error rate for k={0:d} is {1:.3f}'\n",
    "print(s.format(bestK, bestErrRate))\n",
    "print('confusion matrix:')\n",
    "print(C)"
   ]
  }
 ],
 "metadata": {
  "kernelspec": {
   "display_name": "Python 3",
   "language": "python",
   "name": "python3"
  },
  "language_info": {
   "codemirror_mode": {
    "name": "ipython",
    "version": 3
   },
   "file_extension": ".py",
   "mimetype": "text/x-python",
   "name": "python",
   "nbconvert_exporter": "python",
   "pygments_lexer": "ipython3",
   "version": "3.7.1"
  }
 },
 "nbformat": 4,
 "nbformat_minor": 2
}
